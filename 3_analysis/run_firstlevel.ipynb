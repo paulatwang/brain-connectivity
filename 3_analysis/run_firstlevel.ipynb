{
 "cells": [
  {
   "cell_type": "markdown",
   "id": "979c2125-6f32-456f-a7f8-23ba58accec4",
   "metadata": {},
   "source": [
    "Execute notebook outside of docker. "
   ]
  },
  {
   "cell_type": "markdown",
   "id": "89fea4c0-3991-4d59-a742-b74431c1e9ce",
   "metadata": {},
   "source": [
    "# NASH"
   ]
  },
  {
   "cell_type": "markdown",
   "id": "8c5a580a-ea9e-4d3c-86b5-e4a740fe9563",
   "metadata": {},
   "source": [
    "Subjects 1-7\n",
    "\n",
    "['005', '006', '007', '008', '009', '011', '012']\n",
    "\n",
    "Running on `NASH`:\n",
    "- CPU: 12 Cores\n",
    "- RAM: 64GB"
   ]
  },
  {
   "cell_type": "code",
   "execution_count": 29,
   "id": "e191810e-d882-4114-a270-9f9049f38778",
   "metadata": {},
   "outputs": [
    {
     "name": "stdout",
     "output_type": "stream",
     "text": [
      "[NbConvertApp] Converting notebook firstlevel1-7.ipynb to script\n",
      "[NbConvertApp] Writing 16489 bytes to firstlevel1-7.py\n"
     ]
    }
   ],
   "source": [
    "!jupyter nbconvert --to script 'firstlevel1-7.ipynb'"
   ]
  },
  {
   "cell_type": "code",
   "execution_count": 1,
   "id": "0bd629e2-eab6-497c-b032-6a2a33f9190a",
   "metadata": {},
   "outputs": [
    {
     "name": "stdout",
     "output_type": "stream",
     "text": [
      "Overwriting firstlevel1-7.sh\n"
     ]
    }
   ],
   "source": [
    "%%writefile firstlevel1-7.sh\n",
    "#!/bin/sh\n",
    "#SBATCH --job-name=firstlevel1-7      \n",
    "#SBATCH --partition=mnl-all\n",
    "#SBATCH --exclude=markov,turing,cox,ada,babbage,easley,wood\n",
    "#SBATCH --mail-type=ALL        \n",
    "#SBATCH --mail-user=paulawang@ucsb.edu\n",
    "#SBATCH --nodes=1                # node count\n",
    "#SBATCH --ntasks-per-node=1     # number of tasks per node\n",
    "#SBATCH --cpus-per-task=8        # cpu-cores per task (>1 if multi-threaded tasks)\n",
    "#SBATCH --mem-per-cpu=5G         # memory per cpu-core (4G is default)\n",
    "#SBATCH -o /home/pw/projects/thesis/code/nipype_glm/slurm_logs/%x-%A-%a.out\n",
    "pwd; echo \"Running job on: $SLURM_JOB_NODELIST\"; date\n",
    "\n",
    "echo \"Running level 1 nipype script\"\n",
    "docker run --rm --tty -v /home/pw/:/home/pw/ -u pw:lab medianeuro/niflow:2.0 ipython /home/pw/projects/thesis/code/nipype_glm/firstlevel1-7.py\n",
    "\n",
    "date"
   ]
  },
  {
   "cell_type": "code",
   "execution_count": 2,
   "id": "a37ca602-8416-438b-a3c2-0cbb4287670a",
   "metadata": {},
   "outputs": [
    {
     "name": "stdout",
     "output_type": "stream",
     "text": [
      "Submitted batch job 31166\n"
     ]
    }
   ],
   "source": [
    "!sbatch firstlevel1-7.sh"
   ]
  },
  {
   "cell_type": "markdown",
   "id": "78cfad9a-0582-4727-b9af-7d6f74aa5a0d",
   "metadata": {},
   "source": [
    "# WOOD\n"
   ]
  },
  {
   "cell_type": "markdown",
   "id": "844e8cd3-634a-47b6-849b-cd031ac79b77",
   "metadata": {},
   "source": [
    "Subjects 8-14\n",
    "\n",
    "['013', '014', '015', '016', '017', '018', '019']\n",
    "\n",
    "Running on `WOOD`\n",
    "- CPU: 8 Cores\n",
    "- RAM: 32 GB"
   ]
  },
  {
   "cell_type": "code",
   "execution_count": 38,
   "id": "cf22770e-0375-4b74-b5a5-ca367f2ca0bd",
   "metadata": {},
   "outputs": [
    {
     "name": "stdout",
     "output_type": "stream",
     "text": [
      "[NbConvertApp] Converting notebook firstlevel8-14.ipynb to script\n",
      "[NbConvertApp] Writing 16491 bytes to firstlevel8-14.py\n"
     ]
    }
   ],
   "source": [
    "!jupyter nbconvert --to script 'firstlevel8-14.ipynb'"
   ]
  },
  {
   "cell_type": "code",
   "execution_count": 3,
   "id": "11d73c64-6fec-4fcd-8a94-d990b7cc4f68",
   "metadata": {},
   "outputs": [
    {
     "name": "stdout",
     "output_type": "stream",
     "text": [
      "Overwriting firstlevel8-14.sh\n"
     ]
    }
   ],
   "source": [
    "%%writefile firstlevel8-14.sh\n",
    "#!/bin/sh\n",
    "#SBATCH --job-name=firstlevel8-14     \n",
    "#SBATCH --partition=mnl-all\n",
    "#SBATCH --exclude=markov,turing,cox,ada,babbage,easley,nash\n",
    "#SBATCH --mail-type=ALL        \n",
    "#SBATCH --mail-user=paulawang@ucsb.edu\n",
    "#SBATCH --nodes=1                # node count\n",
    "#SBATCH --ntasks-per-node=1     # number of tasks per node\n",
    "#SBATCH --cpus-per-task=8        # cpu-cores per task (>1 if multi-threaded tasks)\n",
    "#SBATCH --mem-per-cpu=4G         # memory per cpu-core (4G is default)\n",
    "#SBATCH -o /home/pw/projects/thesis/code/nipype_glm/slurm_logs/%x-%A-%a.out\n",
    "pwd; echo \"Running job on: $SLURM_JOB_NODELIST\"; date\n",
    "\n",
    "echo \"Running level 1 nipype script\"\n",
    "docker run --rm --tty -v /home/pw/:/home/pw/ -u pw:lab medianeuro/niflow:2.0 ipython /home/pw/projects/thesis/code/nipype_glm/firstlevel8-14.py\n",
    "\n",
    "date"
   ]
  },
  {
   "cell_type": "code",
   "execution_count": 4,
   "id": "4055f0db-5c9e-4340-9565-4b69a85c9432",
   "metadata": {},
   "outputs": [
    {
     "name": "stdout",
     "output_type": "stream",
     "text": [
      "Submitted batch job 31167\n"
     ]
    }
   ],
   "source": [
    "!sbatch firstlevel8-14.sh"
   ]
  },
  {
   "cell_type": "markdown",
   "id": "411bde6f-3ebf-4680-a325-6fe6478c24cd",
   "metadata": {},
   "source": [
    "# Subjects 15-21"
   ]
  },
  {
   "cell_type": "markdown",
   "id": "e1db0d2d-83ff-4196-a8da-5752847f400f",
   "metadata": {},
   "source": [
    "['020', '021', '022', '023', '024', '025', '026']\n",
    "\n",
    "Running on `TURING`\n",
    "- CPU: 8 Cores\n",
    "- RAM: 32 GB"
   ]
  },
  {
   "cell_type": "code",
   "execution_count": 43,
   "id": "d5f6a2eb-91cd-4f27-8839-87ecf98936cd",
   "metadata": {},
   "outputs": [
    {
     "name": "stdout",
     "output_type": "stream",
     "text": [
      "[NbConvertApp] Converting notebook firstlevel15-21.ipynb to script\n",
      "[NbConvertApp] Writing 16492 bytes to firstlevel15-21.py\n"
     ]
    }
   ],
   "source": [
    "!jupyter nbconvert --to script 'firstlevel15-21.ipynb'"
   ]
  },
  {
   "cell_type": "code",
   "execution_count": 70,
   "id": "0208e07b-834a-454b-8d96-e092c5df4989",
   "metadata": {},
   "outputs": [
    {
     "name": "stdout",
     "output_type": "stream",
     "text": [
      "Overwriting firstlevel15-21.sh\n"
     ]
    }
   ],
   "source": [
    "%%writefile firstlevel15-21.sh\n",
    "#!/bin/sh\n",
    "#SBATCH --job-name=firstlevel15-21     \n",
    "#SBATCH --partition=mnl-all\n",
    "#SBATCH --exclude=markov,nash,wood,ada,babbage,easley,cox\n",
    "#SBATCH --mail-type=ALL        \n",
    "#SBATCH --mail-user=paulawang@ucsb.edu\n",
    "#SBATCH --nodes=1                # node count\n",
    "#SBATCH --ntasks-per-node=8     # number of tasks per node\n",
    "#SBATCH --cpus-per-task=1        # cpu-cores per task (>1 if multi-threaded tasks)\n",
    "#SBATCH --mem-per-cpu=4G         # memory per cpu-core (4G is default)\n",
    "#SBATCH -o /home/pw/projects/thesis/code/nipype_glm/slurm_logs/%x-%A-%a.out\n",
    "pwd; echo \"Running job on: $SLURM_JOB_NODELIST\"; date\n",
    "\n",
    "echo \"Running level 1 nipype script\"\n",
    "docker run --rm --tty -v /home/pw/:/home/pw/ -u pw:lab medianeuro/niflow:2.0 python /home/pw/projects/thesis/code/nipype_glm/firstlevel15-21.py\n",
    "\n",
    "date"
   ]
  },
  {
   "cell_type": "code",
   "execution_count": 71,
   "id": "313e5ef6-42ac-4acf-a640-b37ededbbfcc",
   "metadata": {},
   "outputs": [
    {
     "name": "stdout",
     "output_type": "stream",
     "text": [
      "Submitted batch job 31165\n"
     ]
    }
   ],
   "source": [
    "!sbatch firstlevel15-21.sh"
   ]
  },
  {
   "cell_type": "markdown",
   "id": "ab4dd45b-94ff-40dc-91b4-c33fc6106b3b",
   "metadata": {},
   "source": [
    "Sub 30"
   ]
  },
  {
   "cell_type": "markdown",
   "id": "4c9ac22f-8451-418c-add4-76359db490fe",
   "metadata": {},
   "source": [
    "# Subjects 22-28"
   ]
  },
  {
   "cell_type": "markdown",
   "id": "e471f9c5-9b75-45d8-a478-4ab9705bc1a1",
   "metadata": {},
   "source": [
    "['028', '029', '030', '031', '032', '033', '034']\n",
    "\n",
    "Running on `BABBAGE`\n",
    "- CPU: 24 Cores\n",
    "- RAM: 126 GB"
   ]
  },
  {
   "cell_type": "code",
   "execution_count": 48,
   "id": "07a8a3c4-5479-4a6b-8740-152841ca8d13",
   "metadata": {},
   "outputs": [
    {
     "name": "stdout",
     "output_type": "stream",
     "text": [
      "[NbConvertApp] Converting notebook firstlevel22-28.ipynb to script\n",
      "[NbConvertApp] Writing 16492 bytes to firstlevel22-28.py\n"
     ]
    }
   ],
   "source": [
    "!jupyter nbconvert --to script 'firstlevel22-28.ipynb'"
   ]
  },
  {
   "cell_type": "code",
   "execution_count": 40,
   "id": "c6b504db-249d-4484-8ff2-f453ffb18081",
   "metadata": {},
   "outputs": [
    {
     "name": "stdout",
     "output_type": "stream",
     "text": [
      "Overwriting firstlevel22-28.sh\n"
     ]
    }
   ],
   "source": [
    "%%writefile firstlevel22-28.sh\n",
    "#!/bin/sh\n",
    "#SBATCH --job-name=firstlevel22-28     \n",
    "#SBATCH --partition=mnl-all\n",
    "#SBATCH --exclude=markov,turing,cox,ada,babbage,easley,wood\n",
    "#SBATCH --mail-type=ALL        \n",
    "#SBATCH --mail-user=paulawang@ucsb.edu\n",
    "#SBATCH --nodes=1                # node count\n",
    "#SBATCH --ntasks-per-node=1     # number of tasks per node\n",
    "#SBATCH --cpus-per-task=8        # cpu-cores per task (>1 if multi-threaded tasks)\n",
    "#SBATCH --mem-per-cpu=5G         # memory per cpu-core (4G is default)\n",
    "#SBATCH -o /home/pw/projects/thesis/code/nipype_glm/slurm_logs/%x-%A-%a.out\n",
    "pwd; echo \"Running job on: $SLURM_JOB_NODELIST\"; date\n",
    "\n",
    "echo \"Running level 1 nipype script\"\n",
    "docker run --rm --tty -v /home/pw/:/home/pw/ -u pw:lab medianeuro/niflow:2.0 python /home/pw/projects/thesis/code/nipype_glm/firstlevel22-28.py\n",
    "\n",
    "date"
   ]
  },
  {
   "cell_type": "code",
   "execution_count": 41,
   "id": "ccef2769-01e7-4b96-987a-733124ad980a",
   "metadata": {},
   "outputs": [
    {
     "name": "stdout",
     "output_type": "stream",
     "text": [
      "Submitted batch job 31180\n"
     ]
    }
   ],
   "source": [
    "!sbatch firstlevel22-28.sh"
   ]
  },
  {
   "cell_type": "markdown",
   "id": "3ab9e3b3-6515-4eb5-b0e0-d0b781c0b585",
   "metadata": {},
   "source": [
    "# Subjects 29-35"
   ]
  },
  {
   "cell_type": "markdown",
   "id": "cc1055ed-dd55-40ca-a582-b5c3f0f50fbf",
   "metadata": {},
   "source": [
    "['035', '036', '037', '039', '040', '041', '042']\n",
    "\n",
    "Running on `ADA`\n",
    "- CPU: 24 Cores\n",
    "- RAM: 126 GB"
   ]
  },
  {
   "cell_type": "code",
   "execution_count": 67,
   "id": "7c83bbf1-1cdd-42a0-ada6-7186b4f4b5e9",
   "metadata": {},
   "outputs": [
    {
     "name": "stdout",
     "output_type": "stream",
     "text": [
      "[NbConvertApp] Converting notebook firstlevel29-35.ipynb to script\n",
      "[NbConvertApp] Writing 16490 bytes to firstlevel29-35.py\n"
     ]
    }
   ],
   "source": [
    "!jupyter nbconvert --to script 'firstlevel29-35.ipynb'"
   ]
  },
  {
   "cell_type": "code",
   "execution_count": 34,
   "id": "5cb99ed8-906f-4249-bd16-27e60513a90d",
   "metadata": {},
   "outputs": [
    {
     "name": "stdout",
     "output_type": "stream",
     "text": [
      "Overwriting firstlevel29-35.sh\n"
     ]
    }
   ],
   "source": [
    "%%writefile firstlevel29-35.sh\n",
    "#!/bin/sh\n",
    "#SBATCH --job-name=firstlevel29-35      \n",
    "#SBATCH --partition=mnl-all\n",
    "#SBATCH --exclude=markov,turing,cox,ada,babbage,easley,nash\n",
    "#SBATCH --mail-type=ALL        \n",
    "#SBATCH --mail-user=paulawang@ucsb.edu\n",
    "#SBATCH --nodes=1                # node count\n",
    "#SBATCH --ntasks-per-node=1     # number of tasks per node\n",
    "#SBATCH --cpus-per-task=8        # cpu-cores per task (>1 if multi-threaded tasks)\n",
    "#SBATCH --mem-per-cpu=4G         # memory per cpu-core (4G is default)\n",
    "#SBATCH -o /home/pw/projects/thesis/code/nipype_glm/slurm_logs/%x-%A-%a.out\n",
    "pwd; echo \"Running job on: $SLURM_JOB_NODELIST\"; date\n",
    "\n",
    "echo \"Running level 1 nipype script\"\n",
    "docker run --rm --tty -v /home/pw/:/home/pw/ -u pw:lab medianeuro/niflow:2.0 ipython /home/pw/projects/thesis/code/nipype_glm/firstlevel29-35.py\n",
    "\n",
    "date"
   ]
  },
  {
   "cell_type": "code",
   "execution_count": 35,
   "id": "5a468c4a-75c5-4e8b-ba2b-9b6d1428dd39",
   "metadata": {},
   "outputs": [
    {
     "name": "stdout",
     "output_type": "stream",
     "text": [
      "Submitted batch job 31177\n"
     ]
    }
   ],
   "source": [
    "!sbatch firstlevel29-35.sh"
   ]
  },
  {
   "cell_type": "code",
   "execution_count": null,
   "id": "12953c95-dca4-4c68-a764-e6a2cc89477c",
   "metadata": {},
   "outputs": [],
   "source": []
  },
  {
   "cell_type": "code",
   "execution_count": null,
   "id": "6faa1115-0673-4d84-9690-8418c4cb9259",
   "metadata": {},
   "outputs": [],
   "source": []
  },
  {
   "cell_type": "code",
   "execution_count": null,
   "id": "a282569f-c248-4be7-a72d-7b8890d88efe",
   "metadata": {},
   "outputs": [],
   "source": []
  }
 ],
 "metadata": {
  "kernelspec": {
   "display_name": "Python 3 (ipykernel)",
   "language": "python",
   "name": "python3"
  },
  "language_info": {
   "codemirror_mode": {
    "name": "ipython",
    "version": 3
   },
   "file_extension": ".py",
   "mimetype": "text/x-python",
   "name": "python",
   "nbconvert_exporter": "python",
   "pygments_lexer": "ipython3",
   "version": "3.7.13"
  }
 },
 "nbformat": 4,
 "nbformat_minor": 5
}
