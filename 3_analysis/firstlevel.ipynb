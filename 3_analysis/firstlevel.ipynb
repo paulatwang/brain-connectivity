{
 "cells": [
  {
   "cell_type": "markdown",
   "metadata": {},
   "source": [
    "**Written by Paula Wang, October 2022**"
   ]
  },
  {
   "cell_type": "markdown",
   "metadata": {},
   "source": [
    "# Introduction"
   ]
  },
  {
   "cell_type": "markdown",
   "metadata": {},
   "source": [
    "This notebook is the **level 1** analysis pipeline for a psychophysiological (PPI) analysis in Nipype. PPI analysis identifies brain regions whose activity depends on an interaction between a psychological context (a task) and physiological state (the time course of brain activity) of a particular seed region. It can therefore be considered a estimation of the context-dependent changes in effective connectivity (coupling) between brain regions. \n",
    "\n",
    "$$Y =  (P_{SY})\\beta1 + (P_{HY})\\beta2 + (P_{SY} * P_{HY})\\beta3 + \\epsilon$$\n",
    "\n",
    "The PPI model explains the psychological and physiological effect of one region of interest (ROI) on another, and includes an interaction term between the psychological variable and the physiological variable. In this equation, $\\beta1$ and $\\beta2$ are the parameter estimates for the main effects of the psychological and physiological variables respectively, $\\beta3$ is the parameter estimate for their interaction $(P_{SY} * P_{HY})$, and $Y$ is the dependent variable (i.e., activation of target ROI). If the interaction term can explain the brain activation of another brain region after taking into account the main effects of the psychological and physiological variables, then the existence of a task-dependent connectivity between the two brain regions is implied."
   ]
  },
  {
   "cell_type": "markdown",
   "metadata": {},
   "source": [
    "The fitted GLM for this notebook is a variation of the PPI model above, with the main difference of an added nonlinear interaction term. \n",
    "\n",
    "$$ROI_T =  a*D + b*ROI_S + (c*D + d*D^2) * ROI_S + \\epsilon$$\n",
    "\n",
    "And when written out:\n",
    "\n",
    "$$ROI_T =  a*D + b*ROI_S+ c*D*ROI_S + d*D^2*ROI_S + \\epsilon$$\n",
    "\n",
    "Therefore, we will be feeding in 4 predictors to our GLM:\n",
    "1. Predictor 1 = $a*D$ = psychological event (distraction)\n",
    "2. Predictor 2 = $b*ROI_S$ = physiological event (seed ROI)\n",
    "3. Predictor 3 = $c*D*ROI_S$ = linear interaction term \n",
    "4. Predictor 4 = $d*D^2*ROI_S$ = non-linear interaction term "
   ]
  },
  {
   "cell_type": "markdown",
   "metadata": {},
   "source": [
    "# Initialization"
   ]
  },
  {
   "cell_type": "markdown",
   "metadata": {},
   "source": [
    "**<mark>NOTE:</mark> This notebook assumes that the following processes have already been run:**\n",
    "1. Fmriprep preprocessing pipeline (~/projects/thesis/code/preprocessing/preproc.ipynb)\n",
    "2. Distraction pipeline (~/projects/thesis/code/distraction_regressor/prepare_distraction.ipynb)"
   ]
  },
  {
   "cell_type": "markdown",
   "metadata": {},
   "source": [
    "## Docker Info"
   ]
  },
  {
   "cell_type": "markdown",
   "metadata": {},
   "source": [
    "This notebook must be run within a custom-generated docker. The Dockerfile comand to replicate the analytical parameters for this analysis is below:\n",
    "\n",
    "```\n",
    "neurodocker generate docker --base ubuntu:20.04 \\ \n",
    "--pkg-manager apt \\ \n",
    "--install vim datalad tree \\ \n",
    "--afni version=latest \\ \n",
    "--ants version=2.3.1 \\ \n",
    "--convert3d version=1.0.0 \\ \n",
    "--dcm2niix version=latest method=source \\ \n",
    "--freesurfer version=6.0.1 \\ \n",
    "--copy license.txt /opt/freesurfer-6.0.1 \\ \n",
    "--fsl version=6.0.4 \\ \n",
    "--user=neuro \\ \n",
    "--miniconda \\ \n",
    "create_env=neuro \\ \n",
    "conda_install=\"python=3.7 graphviz jupyter jupyterlab jupyter_contrib_nbextensions matplotlib nbformat nilearn numpy pandas pytest scipy seaborn sphinx sphinxcontrib-napoleon traits\" \\ \n",
    "pip_install=\"nibabel atlasreader nipype=1.6.1 neurora pybids\" \\ \n",
    "activate=true > Dockerfile\n",
    "```\n",
    "\n",
    "The Docker command used to run the container is below:\n",
    "```\n",
    "docker run -it --rm -v /home/pw/:/home/pw/ -p PORT:PORT -u pw:lab medianeuro/niflow:2.0 jupyter-lab --ip=0.0.0.0 --port=PORT\n",
    "```"
   ]
  },
  {
   "cell_type": "code",
   "execution_count": 1,
   "metadata": {},
   "outputs": [
    {
     "data": {
      "application/javascript": [
       "IPython.notebook.set_autosave_interval(5000)"
      ]
     },
     "metadata": {},
     "output_type": "display_data"
    },
    {
     "name": "stdout",
     "output_type": "stream",
     "text": [
      "Autosaving every 5 seconds\n"
     ]
    }
   ],
   "source": [
    "%autosave 5"
   ]
  },
  {
   "cell_type": "markdown",
   "metadata": {},
   "source": [
    "## Data Paths"
   ]
  },
  {
   "cell_type": "code",
   "execution_count": 2,
   "metadata": {},
   "outputs": [
    {
     "name": "stdout",
     "output_type": "stream",
     "text": [
      "Running code as:  pw\n",
      "[Errno 17] File exists: '/home/pw/projects/thesis/out/'\n"
     ]
    }
   ],
   "source": [
    "import getpass\n",
    "import os, stat\n",
    "\n",
    "# Get current user\n",
    "user = getpass.getuser()\n",
    "print('Running code as: ', user)\n",
    "\n",
    "# Set the BIDS path\n",
    "data_dir = '/home/{}/projects/thesis/data/'.format(user)\n",
    "\n",
    "# Set path where nipype will store stepwise results (e.g., masks)\n",
    "exp_dir = '/home/{}/projects/thesis/out/'.format(user)\n",
    "\n",
    "try:\n",
    "    os.mkdir(exp_dir)\n",
    "except OSError as error:\n",
    "    print(error)\n",
    "    \n",
    "# Grant root write access to our output files \n",
    "os.chmod(exp_dir, os.stat(exp_dir).st_mode | ((stat.S_IRWXU | stat.S_IRWXO)))"
   ]
  },
  {
   "cell_type": "code",
   "execution_count": 3,
   "metadata": {},
   "outputs": [
    {
     "name": "stdout",
     "output_type": "stream",
     "text": [
      "Running data from /home/pw/projects/thesis/data/\n"
     ]
    }
   ],
   "source": [
    "print(f'Running data from {data_dir}')"
   ]
  },
  {
   "cell_type": "markdown",
   "metadata": {},
   "source": [
    "# Workflow"
   ]
  },
  {
   "cell_type": "markdown",
   "metadata": {},
   "source": [
    "Begin workflow"
   ]
  },
  {
   "cell_type": "code",
   "execution_count": 4,
   "metadata": {},
   "outputs": [
    {
     "name": "stdout",
     "output_type": "stream",
     "text": [
      "221016-20:12:52,467 nipype.utils WARNING:\n",
      "\t A newer version (1.8.4) of nipy/nipype is available. You are using 1.6.1\n"
     ]
    }
   ],
   "source": [
    "from nipype.pipeline import Workflow\n",
    "from nipype.pipeline import Node, MapNode\n",
    "\n",
    "\n",
    "wf_name = 'test'\n",
    "\n",
    "wf = Workflow(name=wf_name, base_dir=exp_dir)\n",
    "wf.config[\"execution\"][\"crashfile_format\"] = \"txt\""
   ]
  },
  {
   "cell_type": "markdown",
   "metadata": {},
   "source": [
    "Iterate over subject_id list\n",
    "\n",
    "Documentation: [nipype.interfaces.utility.IdentityInterface](https://nipype.readthedocs.io/en/0.12.1/interfaces/generated/nipype.interfaces.utility.html#index-3)"
   ]
  },
  {
   "cell_type": "code",
   "execution_count": 5,
   "metadata": {},
   "outputs": [],
   "source": [
    "from glob import glob\n",
    "from nipype.interfaces.utility import IdentityInterface\n",
    "\n",
    "subj_list = [x.split('-')[1] for x in glob(data_dir+\"/bids/sub*\")]\n",
    "subj_list.sort()\n",
    "subj_list=subj_list[:1]\n",
    "\n",
    "ii = Node(\n",
    "    interface=IdentityInterface(fields=[\"subject_id\"]),name=\"ii\")\n",
    "\n",
    "ii.iterables = [(\"subject_id\", subj_list)]"
   ]
  },
  {
   "cell_type": "code",
   "execution_count": 6,
   "metadata": {
    "tags": []
   },
   "outputs": [
    {
     "data": {
      "text/plain": [
       "['005']"
      ]
     },
     "execution_count": 6,
     "metadata": {},
     "output_type": "execute_result"
    }
   ],
   "source": [
    "subj_list"
   ]
  },
  {
   "cell_type": "markdown",
   "metadata": {},
   "source": [
    "## Select Data"
   ]
  },
  {
   "cell_type": "markdown",
   "metadata": {},
   "source": [
    "Extract the relevant `nii.gz` and `.tsv` inputs for all subjects. \n",
    "\n",
    "Documentation: [nipype.interfaces.utility.DataGrabber](https://nipype.readthedocs.io/en/latest/api/generated/nipype.interfaces.io.html#datagrabber)"
   ]
  },
  {
   "cell_type": "code",
   "execution_count": 7,
   "metadata": {},
   "outputs": [],
   "source": [
    "from nipype.interfaces.io import DataGrabber\n",
    "\n",
    "dg = Node(\n",
    "    interface=DataGrabber(\n",
    "        infields=[\"subject_id\",\"run_id\"], outfields=[\"func\",\"mask\",\"distraction\",\"nuisance\"]\n",
    "    ),\n",
    "    name=\"dg\"\n",
    ")\n",
    "\n",
    "# Specify task names and return a sorted filelist to ensure we match files to correct runs/tasks\n",
    "dg.inputs.run_id = [\"1\",\"2\",\"3\"]\n",
    "dg.inputs.sort_filelist = True\n",
    "dg.inputs.template = \"*\"\n",
    "dg.inputs.base_directory = data_dir\n",
    "\n",
    "# Define arguments fill the wildcards in the below paths \n",
    "dg.inputs.template_args = dict(\n",
    "    func=[[\"subject_id\",\"subject_id\",\"run_id\"]],\n",
    "    mask=[[\"subject_id\",\"subject_id\",\"run_id\"]],\n",
    "    distraction=[[\"subject_id\",\"subject_id\",\"run_id\"]],\n",
    "    nuisance=[[\"subject_id\",\"subject_id\",\"run_id\"]],    \n",
    ")\n",
    "\n",
    "# change folder location \n",
    "dg.inputs.field_template = dict(\n",
    "    func=\"derivatives/sub-%s/func/sub-%s_task-game_run-%s_space-MNI152NLin2009cAsym_desc-preproc_bold.nii.gz\",\n",
    "    mask=\"derivatives/sub-%s/func/sub-%s_task-game_run-%s_space-MNI152NLin2009cAsym_desc-brain_mask.nii.gz\",\n",
    "    distraction=\"bids/sub-%s/func/sub-%s_task-game_run-0%s_events.txt\",\n",
    "    nuisance=\"derivatives/sub-%s/func/sub-%s_task-game_run-%s_desc-confounds_timeseries.tsv\"\n",
    ")"
   ]
  },
  {
   "cell_type": "markdown",
   "metadata": {},
   "source": [
    "## Post-Processing"
   ]
  },
  {
   "cell_type": "markdown",
   "metadata": {},
   "source": [
    "### Skull-Stripping"
   ]
  },
  {
   "cell_type": "markdown",
   "metadata": {},
   "source": [
    "Mask our functional data to remove the skull.\n",
    "\n",
    "Documentation: [nipype.interfaces.fsl.maths.ApplyMask](https://nipype.readthedocs.io/en/latest/api/generated/nipype.interfaces.fsl.maths.html#applymask)"
   ]
  },
  {
   "cell_type": "code",
   "execution_count": 8,
   "metadata": {},
   "outputs": [],
   "source": [
    "from nipype.interfaces.fsl.maths import ApplyMask\n",
    "\n",
    "maskfunc = MapNode(\n",
    "    interface=ApplyMask(), iterfield=[\"in_file\", \"mask_file\"], name=\"apply_mask\"\n",
    ")"
   ]
  },
  {
   "cell_type": "markdown",
   "metadata": {},
   "source": [
    "### Spatial Smoothing"
   ]
  },
  {
   "cell_type": "markdown",
   "metadata": {},
   "source": [
    "In order to remain agnostic to any possible subsequent analysis, fMRIPrep does not perform any denoising (e.g., spatial smoothing) itself. FWHM is set to 6, in line with the common rule of thumb that, to render your data approximately normal, you should smooth with a Gaussian filter approximately three times the size of your voxel\n",
    "\n",
    "Documentation: [nipype.interfaces.fsl.preprocess.SUSAN](https://nipype.readthedocs.io/en/latest/api/generated/nipype.interfaces.fsl.preprocess.html#susan)"
   ]
  },
  {
   "cell_type": "code",
   "execution_count": 9,
   "metadata": {},
   "outputs": [],
   "source": [
    "from nipype.interfaces.fsl.preprocess import SUSAN\n",
    "susan = MapNode(\n",
    "    interface=SUSAN(), iterfield=[\"in_file\"], name=\"smooth\")\n",
    "\n",
    "susan.inputs.fwhm = 6\n",
    "susan.inputs.brightness_threshold = 2000.0 # FSL standard"
   ]
  },
  {
   "cell_type": "markdown",
   "metadata": {},
   "source": [
    "## Predictors"
   ]
  },
  {
   "cell_type": "markdown",
   "metadata": {},
   "source": [
    "### Seed Regressors"
   ]
  },
  {
   "cell_type": "markdown",
   "metadata": {},
   "source": [
    "To obtain the seed regressors to be input as our physiological predictor, we extract the neurological time series at a set of pre-determined ROIs. Our ROIs have been determined *a priori* as a set of anatomical MNI coordinates: 1. Thal [22, −27, 3] , 2. Superior frontal gyrus (SFG) [16, 4, 44], 3. Superior part of inferior frontal gyrus (IFGs)[36, 26, 15], 4. Inferior part of inferior frontal gyrus (IFGi)[34, 20, 5], 5. Lateral part of fusiform gyrus (FFGl)[44, −58, 1], 6. Medial parts of the fusiform gyrus (FFGm)[36, −60, 1], 7. Cerebellum (Cere)[0, −62, −32], 8. Middle frontal gyrus (MFG)[36, −5, 50], 9. Anterior cingulate cortex (ACC)[6, 36, 26].\n",
    "\n",
    "fMRIprep has already warped the anatomical and functional images to the standard MNI152NLin2009cAsym template, available at https://www.templateflow.org/usage/archive/. "
   ]
  },
  {
   "cell_type": "markdown",
   "metadata": {},
   "source": [
    "Documentation: [nipype.interfaces.utility.Function](https://nipype.readthedocs.io/en/latest/api/generated/nipype.interfaces.utility.wrappers.html) and [example use](https://nipype.readthedocs.io/en/0.11.0/users/function_interface.html)"
   ]
  },
  {
   "cell_type": "code",
   "execution_count": 1,
   "metadata": {
    "tags": []
   },
   "outputs": [
    {
     "ename": "ModuleNotFoundError",
     "evalue": "No module named 'nipype'",
     "output_type": "error",
     "traceback": [
      "\u001b[0;31m---------------------------------------------------------------------------\u001b[0m",
      "\u001b[0;31mModuleNotFoundError\u001b[0m                       Traceback (most recent call last)",
      "\u001b[0;32m/tmp/ipykernel_4183974/45876701.py\u001b[0m in \u001b[0;36m<module>\u001b[0;34m\u001b[0m\n\u001b[0;32m----> 1\u001b[0;31m \u001b[0;32mfrom\u001b[0m \u001b[0mnipype\u001b[0m\u001b[0;34m.\u001b[0m\u001b[0minterfaces\u001b[0m\u001b[0;34m.\u001b[0m\u001b[0mutility\u001b[0m \u001b[0;32mimport\u001b[0m \u001b[0mFunction\u001b[0m\u001b[0;34m\u001b[0m\u001b[0;34m\u001b[0m\u001b[0m\n\u001b[0m\u001b[1;32m      2\u001b[0m \u001b[0;34m\u001b[0m\u001b[0m\n\u001b[1;32m      3\u001b[0m \u001b[0;32mdef\u001b[0m \u001b[0mseedmask\u001b[0m\u001b[0;34m(\u001b[0m\u001b[0mfunc_file\u001b[0m\u001b[0;34m)\u001b[0m\u001b[0;34m:\u001b[0m\u001b[0;34m\u001b[0m\u001b[0;34m\u001b[0m\u001b[0m\n\u001b[1;32m      4\u001b[0m     \u001b[0mcoords\u001b[0m \u001b[0;34m=\u001b[0m \u001b[0;34m[\u001b[0m\u001b[0;34m(\u001b[0m\u001b[0;36m22\u001b[0m\u001b[0;34m,\u001b[0m \u001b[0;34m-\u001b[0m\u001b[0;36m27\u001b[0m\u001b[0;34m,\u001b[0m \u001b[0;36m3\u001b[0m\u001b[0;34m)\u001b[0m\u001b[0;34m,\u001b[0m\u001b[0;34m(\u001b[0m\u001b[0;36m16\u001b[0m\u001b[0;34m,\u001b[0m \u001b[0;36m4\u001b[0m\u001b[0;34m,\u001b[0m \u001b[0;36m44\u001b[0m\u001b[0;34m)\u001b[0m\u001b[0;34m,\u001b[0m\u001b[0;34m(\u001b[0m\u001b[0;36m36\u001b[0m\u001b[0;34m,\u001b[0m \u001b[0;36m26\u001b[0m\u001b[0;34m,\u001b[0m \u001b[0;36m15\u001b[0m\u001b[0;34m)\u001b[0m\u001b[0;34m,\u001b[0m\u001b[0;34m(\u001b[0m\u001b[0;36m34\u001b[0m\u001b[0;34m,\u001b[0m \u001b[0;36m20\u001b[0m\u001b[0;34m,\u001b[0m \u001b[0;36m5\u001b[0m\u001b[0;34m)\u001b[0m\u001b[0;34m,\u001b[0m\u001b[0;34m(\u001b[0m\u001b[0;36m44\u001b[0m\u001b[0;34m,\u001b[0m \u001b[0;34m-\u001b[0m\u001b[0;36m58\u001b[0m\u001b[0;34m,\u001b[0m \u001b[0;36m1\u001b[0m\u001b[0;34m)\u001b[0m\u001b[0;34m,\u001b[0m\u001b[0;34m(\u001b[0m\u001b[0;36m36\u001b[0m\u001b[0;34m,\u001b[0m \u001b[0;34m-\u001b[0m\u001b[0;36m60\u001b[0m\u001b[0;34m,\u001b[0m \u001b[0;36m1\u001b[0m\u001b[0;34m)\u001b[0m\u001b[0;34m,\u001b[0m\u001b[0;34m(\u001b[0m\u001b[0;36m0\u001b[0m\u001b[0;34m,\u001b[0m \u001b[0;34m-\u001b[0m\u001b[0;36m62\u001b[0m\u001b[0;34m,\u001b[0m \u001b[0;34m-\u001b[0m\u001b[0;36m32\u001b[0m\u001b[0;34m)\u001b[0m\u001b[0;34m,\u001b[0m\u001b[0;34m(\u001b[0m\u001b[0;36m36\u001b[0m\u001b[0;34m,\u001b[0m \u001b[0;34m-\u001b[0m\u001b[0;36m5\u001b[0m\u001b[0;34m,\u001b[0m \u001b[0;36m50\u001b[0m\u001b[0;34m)\u001b[0m\u001b[0;34m,\u001b[0m\u001b[0;34m(\u001b[0m\u001b[0;36m6\u001b[0m\u001b[0;34m,\u001b[0m \u001b[0;36m36\u001b[0m\u001b[0;34m,\u001b[0m \u001b[0;36m26\u001b[0m\u001b[0;34m)\u001b[0m\u001b[0;34m]\u001b[0m\u001b[0;34m\u001b[0m\u001b[0;34m\u001b[0m\u001b[0m\n\u001b[1;32m      5\u001b[0m     seed_masker = hiftisp(coords, radius=3, detrend=True,\n",
      "\u001b[0;31mModuleNotFoundError\u001b[0m: No module named 'nipype'"
     ]
    }
   ],
   "source": [
    "from nipype.interfaces.utility import Function\n",
    "\n",
    "def seedmask(func_file):\n",
    "    coords = [(22, -27, 3),(16, 4, 44),(36, 26, 15),(34, 20, 5),(44, -58, 1),(36, -60, 1),(0, -62, -32),(36, -5, 50),(6, 36, 26)]\n",
    "    seed_masker = hiftisp(coords, radius=3, detrend=True,\n",
    "                                     high_pass=None, t_r=2.,standardize=False,\n",
    "                                     memory='nilearn_cache',\n",
    "                                     memory_level=1, verbose=0)\n",
    "    seed_time_series = seed_masker.fit_transform(func_file)\n",
    "    return seed_time_series\n",
    "\n",
    "seedmask = MapNode(\n",
    "    Function(\n",
    "    function=seedmask, input_names=[\"func_file\"], output_names=[\"seed_time_series\"]\n",
    "    ),\n",
    "    name=\"seedmask\", iterfield=[\"func_file\"]\n",
    ")"
   ]
  },
  {
   "cell_type": "markdown",
   "metadata": {},
   "source": [
    "### Distraction Regressor"
   ]
  },
  {
   "cell_type": "markdown",
   "metadata": {},
   "source": [
    "This notebook assumes that the notebook for calculating our distraction regressor has already been run (~/projects/thesis/code/distraction_regressor/prepare_distraction.ipynb). The output was saved into the bids file structure of each subject for each run, under `events.txt`."
   ]
  },
  {
   "cell_type": "markdown",
   "metadata": {},
   "source": [
    "### Nuisance Regressors"
   ]
  },
  {
   "cell_type": "markdown",
   "metadata": {},
   "source": [
    "For de-noising, we went with a set of nine nuisance regressors, including six realignment parameters (three rotations and three translations), two physiological (white matter and csf), and global signal regression. This is a set of nuisance regressors that has been widely applied to functional connectivity studies [(Ciric et al., 2017)](https://doi.org/10.1016/j.neuroimage.2017.03.020)."
   ]
  },
  {
   "cell_type": "code",
   "execution_count": 11,
   "metadata": {},
   "outputs": [],
   "source": [
    "def get_predictors(seed_time_series, dist_file, nr_file, roi):\n",
    "    import numpy as np\n",
    "    import pandas as pd\n",
    "    from scipy.stats import zscore\n",
    "    from nilearn.glm.first_level import compute_regressor\n",
    "\n",
    "    # Prepare timings\n",
    "    t_r = 2.\n",
    "    slice_time_ref = 0.\n",
    "    n_scans = 185\n",
    "    frametimes = np.linspace(0, (n_scans - 1) * t_r, n_scans)\n",
    "\n",
    "    # Prepare psy\n",
    "    distraction = pd.read_csv(dist_file, header=None)[0][10:-55]\n",
    "    distraction_df = pd.DataFrame(\n",
    "        {\n",
    "        'dist': distraction - distraction.mean(), # mean-centered\n",
    "        'distsq': distraction**2 - (distraction**2).mean() # mean-centered and squared\n",
    "        }).reindex(range(185), fill_value=0)\n",
    "    \n",
    "    for column in distraction_df:\n",
    "        onset, duration, amplitude = list(range(0, 370, 2)), [2]*185, distraction_df[column]\n",
    "        exp_condition = np.array((onset, duration, amplitude)).reshape(3, 185)\n",
    "        distraction_conv = compute_regressor(exp_condition=exp_condition, \n",
    "                                             hrf_model='spm', # convolution hrf\n",
    "                                             frame_times=frametimes, \n",
    "                                             con_id=column)\n",
    "        data, colname = distraction_conv[0], distraction_conv[1][0]+'_conv'\n",
    "        distraction_df = pd.concat([distraction_df, pd.DataFrame(data, columns=[colname])], axis=1) \n",
    "\n",
    "    # Prepare seed\n",
    "    seed = pd.DataFrame(seed_time_series,columns=['Thal','SFG','IFGs','IfGi','FFGl','FFGm','Cere','MFG','ACC']) \n",
    "    seed_mc = seed-seed.mean() # mean-centered\n",
    "    seed_df = seed_mc[[roi]]\n",
    "\n",
    "    # Prepare interactions\n",
    "    interactions_df = pd.DataFrame({roi+'_dist': seed_df[roi]*distraction_df['dist_conv'],\n",
    "                                    roi+'_distsq':seed_df[roi]*distraction_df['distsq_conv']})\n",
    "\n",
    "    # Prepare nuisance regressors\n",
    "    nr_labels = ['global_signal','white_matter','csf','rot_x','rot_y','rot_z','trans_x','trans_y','trans_z']\n",
    "    nuisance = pd.read_csv(nr_file, sep='\\t', usecols=nr_labels)\n",
    "    nuisance_df = nuisance - nuisance.mean() # mean-centered\n",
    "\n",
    "    # get conditions df\n",
    "    conditions = pd.DataFrame()\n",
    "    conditions = pd.concat([conditions, distraction_df[['dist_conv']], seed_df, interactions_df], axis=1)\n",
    "    \n",
    "    return conditions, nuisance_df\n",
    "\n",
    "get_predictors = MapNode(\n",
    "    Function(\n",
    "    function=get_predictors, input_names=[\"seed_time_series\", \"dist_file\", \"nr_file\", \"roi\"], output_names=[\"conditions\", \"regressors\"]\n",
    "    ),\n",
    "    name=\"get_predictors\", iterfield=[\"seed_time_series\", \"dist_file\", \"nr_file\"]\n",
    ")\n",
    "                     \n",
    "get_predictors.iterables = (\"roi\",['Thal','SFG','IFGs','IfGi','FFGl','FFGm','Cere','MFG','ACC'])"
   ]
  },
  {
   "cell_type": "markdown",
   "metadata": {},
   "source": [
    "## Level 1 Model"
   ]
  },
  {
   "cell_type": "markdown",
   "metadata": {},
   "source": [
    "### Run Info and Contrast List"
   ]
  },
  {
   "cell_type": "markdown",
   "metadata": {},
   "source": [
    "The `modelgen.SpecifyModel()` interface is Nipype's custom GLMmodel generator. It takes a list of event files as input, which is calculated with out `get_subjinfo` function. We need to combine our prepared predictors and nuisance regressors into a single bunch file. Therefore, we need to generate a `Bunch function` that includes all subject and run information. Since we have three runs, we have three bunch functions per subject. This will be used as the `subject_info` input in the `modelspec` node. \n",
    "\n",
    "Documentation: [nipype.interfaces.base.Bunch](https://nipype.readthedocs.io/en/latest/api/generated/nipype.interfaces.base.support.html)"
   ]
  },
  {
   "cell_type": "code",
   "execution_count": 12,
   "metadata": {},
   "outputs": [],
   "source": [
    "def get_subjinfo(conditions, regressors):\n",
    "    from os.path import join as opj\n",
    "    import pandas as pd\n",
    "    from nipype.interfaces.base import Bunch\n",
    "    \n",
    "    run_info = Bunch(onsets=[], durations=[])\n",
    "    run_info.set(conditions = conditions.columns.tolist())\n",
    "    for cond in conditions.columns.tolist():\n",
    "        run_info.onsets.append(list(range(0,370,2))) # in seconds\n",
    "        run_info.durations.append([2]*185) # in seconds\n",
    "    run_info.set(amplitudes = conditions.T.values.tolist())    \n",
    "    run_info.set(regressor_names = regressors.columns.tolist())\n",
    "    run_info.set(regressors = regressors.T.values.tolist())\n",
    "\n",
    "    subj_info = []\n",
    "    subj_info.append(run_info)\n",
    "    \n",
    "    condition_names = conditions.columns.tolist()\n",
    "    cont01 = [condition_names[0], \"T\", condition_names, [1, 0, 0, 0]] # dist_conv\n",
    "    cont02 = [condition_names[1], \"T\", condition_names, [0, 1, 0, 0]] # ROI\n",
    "    cont03 = [condition_names[2], \"T\", condition_names, [0, 0, 1, 0]] # ROI_dist\n",
    "    cont04 = [condition_names[3], \"T\", condition_names, [0, 0, 0, 1]] # ROI_distsq\n",
    "    contrast_list = [cont03, cont04] #only need the contrasts for the c and d coefficients\n",
    "\n",
    "    return subj_info, contrast_list\n",
    "\n",
    "get_subjinfo = MapNode(\n",
    "    Function(\n",
    "    function=get_subjinfo, input_names=[\"conditions\",\"regressors\"], output_names=[\"subj_info\", \"contrast_list\"]\n",
    "    ),\n",
    "    name=\"get_subjinfo\", iterfield = [\"conditions\",\"regressors\"]\n",
    ")"
   ]
  },
  {
   "cell_type": "markdown",
   "metadata": {},
   "source": [
    "### Model Specification"
   ]
  },
  {
   "cell_type": "markdown",
   "metadata": {},
   "source": [
    "Documentation: [nipype.algorithms.modelgen.SpecifyModel](https://nipype.readthedocs.io/en/latest/api/generated/nipype.algorithms.modelgen.html)"
   ]
  },
  {
   "cell_type": "code",
   "execution_count": 13,
   "metadata": {},
   "outputs": [],
   "source": [
    "from nipype.algorithms.modelgen import SpecifyModel\n",
    "\n",
    "modelspec = MapNode(\n",
    "    interface=SpecifyModel(), \n",
    "    name=\"modelspec\", iterfield=[\"functional_runs\",\"subject_info\"]\n",
    ")\n",
    "\n",
    "highpass=100 #in seconds\n",
    "TR=2\n",
    "\n",
    "modelspec.inputs.high_pass_filter_cutoff = highpass \n",
    "modelspec.inputs.input_units = \"secs\"\n",
    "modelspec.inputs.time_repetition = TR"
   ]
  },
  {
   "cell_type": "markdown",
   "metadata": {
    "tags": []
   },
   "source": [
    "### Design File"
   ]
  },
  {
   "cell_type": "markdown",
   "metadata": {},
   "source": [
    "Generate an FSL design.fsf file as input for FSL's FEAT. \n",
    "\n",
    "Documentation: [nipype.interfaces.fsl.model.Level1Design](https://nipype.readthedocs.io/en/1.8.3/api/generated/nipype.interfaces.fsl.model.html#level1design)"
   ]
  },
  {
   "cell_type": "code",
   "execution_count": 14,
   "metadata": {},
   "outputs": [],
   "source": [
    "from nipype.interfaces.fsl.model import Level1Design\n",
    "\n",
    "level1design = MapNode(\n",
    "    Level1Design(), name=\"level1design\", iterfield=[\"session_info\",\"contrasts\"]\n",
    ")\n",
    "\n",
    "level1design.inputs.interscan_interval = TR\n",
    "\n",
    "# Set HRF bases functions\n",
    "level1design.inputs.bases = {'none':{None:None}}\n",
    "level1design.inputs.model_serial_correlations = True"
   ]
  },
  {
   "cell_type": "markdown",
   "metadata": {},
   "source": [
    "### Design Matrix "
   ]
  },
  {
   "cell_type": "markdown",
   "metadata": {},
   "source": [
    "Documentation: [nipype.interfaces.fsl.model.FEATModel](https://nipype.readthedocs.io/en/latest/api/generated/nipype.interfaces.fsl.model.html#featmodel)"
   ]
  },
  {
   "cell_type": "code",
   "execution_count": 15,
   "metadata": {},
   "outputs": [],
   "source": [
    "from nipype.interfaces.fsl.model import FEATModel\n",
    "\n",
    "modelgen = MapNode(\n",
    "    FEATModel(), name='modelgen', iterfield=['fsf_file', 'ev_files'])"
   ]
  },
  {
   "cell_type": "markdown",
   "metadata": {},
   "source": [
    "## Analysis"
   ]
  },
  {
   "cell_type": "markdown",
   "metadata": {},
   "source": [
    "Documentation: [nipype.interfaces.fsl.model.FILMGLS](https://nipype.readthedocs.io/en/latest/api/generated/nipype.interfaces.fsl.model.html#filmgls)"
   ]
  },
  {
   "cell_type": "code",
   "execution_count": 16,
   "metadata": {},
   "outputs": [],
   "source": [
    "from nipype.interfaces.fsl.model import FILMGLS\n",
    "\n",
    "level1estimate = MapNode(\n",
    "    FILMGLS(smooth_autocorr=True, mask_size=5, threshold=1000), name='level1estimate', iterfield=['design_file', 'in_file', 'tcon_file'])"
   ]
  },
  {
   "cell_type": "markdown",
   "metadata": {},
   "source": [
    "# Connnect Workflow"
   ]
  },
  {
   "cell_type": "code",
   "execution_count": 17,
   "metadata": {},
   "outputs": [],
   "source": [
    "wf.connect([\n",
    "    # get data\n",
    "    (ii, dg, \n",
    "     [(\"subject_id\", \"subject_id\")]),\n",
    "    # smoothing \n",
    "    (dg, susan, \n",
    "     [(\"func\", \"in_file\")]),\n",
    "    # seed mask\n",
    "    (susan, seedmask, \n",
    "     [(\"smoothed_file\",\"func_file\")]),\n",
    "    # get predictors\n",
    "    (seedmask, get_predictors,\n",
    "     [(\"seed_time_series\",\"seed_time_series\")]),\n",
    "    (dg, get_predictors, \n",
    "     [(\"distraction\",\"dist_file\"), \n",
    "      (\"nuisance\", \"nr_file\")]),\n",
    "    # get subject info\n",
    "    (get_predictors, get_subjinfo,\n",
    "     [(\"conditions\",\"conditions\"),\n",
    "      (\"regressors\",\"regressors\")]),\n",
    "    # specify model\n",
    "    (get_subjinfo, modelspec,\n",
    "     [(\"subj_info\",\"subject_info\")]),\n",
    "    (susan, modelspec,\n",
    "     [(\"smoothed_file\",\"functional_runs\")]),\n",
    "    # create design fsf files\n",
    "    (modelspec, level1design,\n",
    "     [(\"session_info\",\"session_info\")]),\n",
    "    (get_subjinfo, level1design,\n",
    "     [(\"contrast_list\",\"contrasts\")]),\n",
    "    # feat model\n",
    "    (level1design, modelgen, \n",
    "     [('fsf_files', 'fsf_file'), \n",
    "      ('ev_files','ev_files')]),\n",
    "    # parameter estimates\n",
    "    (susan, level1estimate,\n",
    "     [('smoothed_file', 'in_file')]),\n",
    "    (modelgen, level1estimate,\n",
    "     [('design_file','design_file'),\n",
    "      ('con_file','tcon_file')]),\n",
    "])"
   ]
  },
  {
   "cell_type": "markdown",
   "metadata": {},
   "source": [
    "## Visualize Workflow"
   ]
  },
  {
   "cell_type": "code",
   "execution_count": 18,
   "metadata": {
    "tags": []
   },
   "outputs": [
    {
     "name": "stdout",
     "output_type": "stream",
     "text": [
      "221016-20:12:53,660 nipype.workflow INFO:\n",
      "\t Generated workflow graph: /home/pw/projects/thesis/out/test/modelfit_final_detailed.png (graph2use=exec, simple_form=False).\n"
     ]
    },
    {
     "data": {
      "image/png": "[encoded data removed]",
      "text/plain": [
       "<IPython.core.display.Image object>"
      ]
     },
     "execution_count": 18,
     "metadata": {
      "image/png": {
       "height": 1500,
       "width": 1500
      }
     },
     "output_type": "execute_result"
    }
   ],
   "source": [
    "wf.write_graph(\n",
    "    graph2use=\"exec\", format=\"png\", simple_form=False, dotfilename=\"modelfit_final.dot\"\n",
    ")\n",
    "\n",
    "# # Visualize the graph\n",
    "from IPython.display import Image\n",
    "\n",
    "Image(\n",
    "    filename=exp_dir + f\"/{wf_name}/modelfit_final.png\", width=1500, height=1500\n",
    ")"
   ]
  },
  {
   "cell_type": "markdown",
   "metadata": {},
   "source": [
    "# Run"
   ]
  },
  {
   "cell_type": "code",
   "execution_count": 19,
   "metadata": {
    "tags": []
   },
   "outputs": [
    {
     "name": "stdout",
     "output_type": "stream",
     "text": [
      "221016-20:12:53,683 nipype.workflow INFO:\n",
      "\t Workflow test settings: ['check', 'execution', 'logging', 'monitoring']\n",
      "221016-20:12:53,765 nipype.workflow INFO:\n",
      "\t Running serially.\n",
      "221016-20:12:53,766 nipype.workflow INFO:\n",
      "\t [Node] Setting-up \"test.dg\" in \"/home/pw/projects/thesis/out/test/_subject_id_005/dg\".\n",
      "221016-20:12:53,781 nipype.workflow INFO:\n",
      "\t [Node] Running \"dg\" (\"nipype.interfaces.io.DataGrabber\")\n",
      "221016-20:12:53,785 nipype.workflow WARNING:\n",
      "\t Storing result file without outputs\n",
      "221016-20:12:53,788 nipype.workflow WARNING:\n",
      "\t [Node] Error on \"test.dg\" (/home/pw/projects/thesis/out/test/_subject_id_005/dg)\n",
      "221016-20:12:53,790 nipype.workflow ERROR:\n",
      "\t Node dg.b0 failed to run on host 9d7619b5928a.\n",
      "221016-20:12:53,791 nipype.workflow ERROR:\n",
      "\t Saving crash info to /home/pw/projects/thesis/code/3_analysis/crash-20221016-201253-pw-dg.b0-3257ff4d-8a5c-4649-b9e9-2c93ed157fb0.txt\n",
      "Traceback (most recent call last):\n",
      "  File \"/opt/miniconda-latest/envs/neuro/lib/python3.7/site-packages/nipype/pipeline/plugins/linear.py\", line 45, in run\n",
      "    node.run(updatehash=updatehash)\n",
      "  File \"/opt/miniconda-latest/envs/neuro/lib/python3.7/site-packages/nipype/pipeline/engine/nodes.py\", line 516, in run\n",
      "    result = self._run_interface(execute=True)\n",
      "  File \"/opt/miniconda-latest/envs/neuro/lib/python3.7/site-packages/nipype/pipeline/engine/nodes.py\", line 635, in _run_interface\n",
      "    return self._run_command(execute)\n",
      "  File \"/opt/miniconda-latest/envs/neuro/lib/python3.7/site-packages/nipype/pipeline/engine/nodes.py\", line 741, in _run_command\n",
      "    result = self._interface.run(cwd=outdir)\n",
      "  File \"/opt/miniconda-latest/envs/neuro/lib/python3.7/site-packages/nipype/interfaces/base/core.py\", line 430, in run\n",
      "    outputs = self.aggregate_outputs(runtime)\n",
      "  File \"/opt/miniconda-latest/envs/neuro/lib/python3.7/site-packages/nipype/interfaces/base/core.py\", line 506, in aggregate_outputs\n",
      "    predicted_outputs = self._list_outputs()  # Predictions from _list_outputs\n",
      "  File \"/opt/miniconda-latest/envs/neuro/lib/python3.7/site-packages/nipype/interfaces/io.py\", line 1295, in _list_outputs\n",
      "    raise IOError(msg)\n",
      "OSError: Output key: func Template: /home/pw/projects/thesis/data/derivatives/sub-005/func/sub-005_task-game_run-1_space-MNI152NLin2009cAsym_desc-preproc_bold.nii.gz returned no files\n",
      "\n",
      "221016-20:12:53,793 nipype.workflow INFO:\n",
      "\t ***********************************\n",
      "221016-20:12:53,793 nipype.workflow ERROR:\n",
      "\t could not run node: test.dg.b0\n",
      "221016-20:12:53,794 nipype.workflow INFO:\n",
      "\t crashfile: /home/pw/projects/thesis/code/3_analysis/crash-20221016-201253-pw-dg.b0-3257ff4d-8a5c-4649-b9e9-2c93ed157fb0.txt\n",
      "221016-20:12:53,794 nipype.workflow INFO:\n",
      "\t ***********************************\n"
     ]
    },
    {
     "ename": "RuntimeError",
     "evalue": "Workflow did not execute cleanly. Check log for details",
     "output_type": "error",
     "traceback": [
      "\u001b[0;31m---------------------------------------------------------------------------\u001b[0m",
      "\u001b[0;31mRuntimeError\u001b[0m                              Traceback (most recent call last)",
      "\u001b[0;32m<ipython-input-19-0ead6547c57a>\u001b[0m in \u001b[0;36m<module>\u001b[0;34m\u001b[0m\n\u001b[0;32m----> 1\u001b[0;31m \u001b[0mwf\u001b[0m\u001b[0;34m.\u001b[0m\u001b[0mrun\u001b[0m\u001b[0;34m(\u001b[0m\u001b[0;34m)\u001b[0m \u001b[0;31m#plugin=\"MultiProc\", plugin_args={\"n_procs\": 8}\u001b[0m\u001b[0;34m\u001b[0m\u001b[0;34m\u001b[0m\u001b[0m\n\u001b[0m",
      "\u001b[0;32m/opt/miniconda-latest/envs/neuro/lib/python3.7/site-packages/nipype/pipeline/engine/workflows.py\u001b[0m in \u001b[0;36mrun\u001b[0;34m(self, plugin, plugin_args, updatehash)\u001b[0m\n\u001b[1;32m    636\u001b[0m         \u001b[0;32mif\u001b[0m \u001b[0mstr2bool\u001b[0m\u001b[0;34m(\u001b[0m\u001b[0mself\u001b[0m\u001b[0;34m.\u001b[0m\u001b[0mconfig\u001b[0m\u001b[0;34m[\u001b[0m\u001b[0;34m\"execution\"\u001b[0m\u001b[0;34m]\u001b[0m\u001b[0;34m[\u001b[0m\u001b[0;34m\"create_report\"\u001b[0m\u001b[0;34m]\u001b[0m\u001b[0;34m)\u001b[0m\u001b[0;34m:\u001b[0m\u001b[0;34m\u001b[0m\u001b[0;34m\u001b[0m\u001b[0m\n\u001b[1;32m    637\u001b[0m             \u001b[0mself\u001b[0m\u001b[0;34m.\u001b[0m\u001b[0m_write_report_info\u001b[0m\u001b[0;34m(\u001b[0m\u001b[0mself\u001b[0m\u001b[0;34m.\u001b[0m\u001b[0mbase_dir\u001b[0m\u001b[0;34m,\u001b[0m \u001b[0mself\u001b[0m\u001b[0;34m.\u001b[0m\u001b[0mname\u001b[0m\u001b[0;34m,\u001b[0m \u001b[0mexecgraph\u001b[0m\u001b[0;34m)\u001b[0m\u001b[0;34m\u001b[0m\u001b[0;34m\u001b[0m\u001b[0m\n\u001b[0;32m--> 638\u001b[0;31m         \u001b[0mrunner\u001b[0m\u001b[0;34m.\u001b[0m\u001b[0mrun\u001b[0m\u001b[0;34m(\u001b[0m\u001b[0mexecgraph\u001b[0m\u001b[0;34m,\u001b[0m \u001b[0mupdatehash\u001b[0m\u001b[0;34m=\u001b[0m\u001b[0mupdatehash\u001b[0m\u001b[0;34m,\u001b[0m \u001b[0mconfig\u001b[0m\u001b[0;34m=\u001b[0m\u001b[0mself\u001b[0m\u001b[0;34m.\u001b[0m\u001b[0mconfig\u001b[0m\u001b[0;34m)\u001b[0m\u001b[0;34m\u001b[0m\u001b[0;34m\u001b[0m\u001b[0m\n\u001b[0m\u001b[1;32m    639\u001b[0m         \u001b[0mdatestr\u001b[0m \u001b[0;34m=\u001b[0m \u001b[0mdatetime\u001b[0m\u001b[0;34m.\u001b[0m\u001b[0mutcnow\u001b[0m\u001b[0;34m(\u001b[0m\u001b[0;34m)\u001b[0m\u001b[0;34m.\u001b[0m\u001b[0mstrftime\u001b[0m\u001b[0;34m(\u001b[0m\u001b[0;34m\"%Y%m%dT%H%M%S\"\u001b[0m\u001b[0;34m)\u001b[0m\u001b[0;34m\u001b[0m\u001b[0;34m\u001b[0m\u001b[0m\n\u001b[1;32m    640\u001b[0m         \u001b[0;32mif\u001b[0m \u001b[0mstr2bool\u001b[0m\u001b[0;34m(\u001b[0m\u001b[0mself\u001b[0m\u001b[0;34m.\u001b[0m\u001b[0mconfig\u001b[0m\u001b[0;34m[\u001b[0m\u001b[0;34m\"execution\"\u001b[0m\u001b[0;34m]\u001b[0m\u001b[0;34m[\u001b[0m\u001b[0;34m\"write_provenance\"\u001b[0m\u001b[0;34m]\u001b[0m\u001b[0;34m)\u001b[0m\u001b[0;34m:\u001b[0m\u001b[0;34m\u001b[0m\u001b[0;34m\u001b[0m\u001b[0m\n",
      "\u001b[0;32m/opt/miniconda-latest/envs/neuro/lib/python3.7/site-packages/nipype/pipeline/plugins/linear.py\u001b[0m in \u001b[0;36mrun\u001b[0;34m(self, graph, config, updatehash)\u001b[0m\n\u001b[1;32m     67\u001b[0m \u001b[0;34m\u001b[0m\u001b[0m\n\u001b[1;32m     68\u001b[0m         \u001b[0mos\u001b[0m\u001b[0;34m.\u001b[0m\u001b[0mchdir\u001b[0m\u001b[0;34m(\u001b[0m\u001b[0mold_wd\u001b[0m\u001b[0;34m)\u001b[0m  \u001b[0;31m# Return wherever we were before\u001b[0m\u001b[0;34m\u001b[0m\u001b[0;34m\u001b[0m\u001b[0m\n\u001b[0;32m---> 69\u001b[0;31m         \u001b[0mreport_nodes_not_run\u001b[0m\u001b[0;34m(\u001b[0m\u001b[0mnotrun\u001b[0m\u001b[0;34m)\u001b[0m\u001b[0;34m\u001b[0m\u001b[0;34m\u001b[0m\u001b[0m\n\u001b[0m",
      "\u001b[0;32m/opt/miniconda-latest/envs/neuro/lib/python3.7/site-packages/nipype/pipeline/plugins/tools.py\u001b[0m in \u001b[0;36mreport_nodes_not_run\u001b[0;34m(notrun)\u001b[0m\n\u001b[1;32m     95\u001b[0m         \u001b[0mlogger\u001b[0m\u001b[0;34m.\u001b[0m\u001b[0minfo\u001b[0m\u001b[0;34m(\u001b[0m\u001b[0;34m\"***********************************\"\u001b[0m\u001b[0;34m)\u001b[0m\u001b[0;34m\u001b[0m\u001b[0;34m\u001b[0m\u001b[0m\n\u001b[1;32m     96\u001b[0m         raise RuntimeError(\n\u001b[0;32m---> 97\u001b[0;31m             \u001b[0;34m(\u001b[0m\u001b[0;34m\"Workflow did not execute cleanly. \"\u001b[0m \u001b[0;34m\"Check log for details\"\u001b[0m\u001b[0;34m)\u001b[0m\u001b[0;34m\u001b[0m\u001b[0;34m\u001b[0m\u001b[0m\n\u001b[0m\u001b[1;32m     98\u001b[0m         )\n\u001b[1;32m     99\u001b[0m \u001b[0;34m\u001b[0m\u001b[0m\n",
      "\u001b[0;31mRuntimeError\u001b[0m: Workflow did not execute cleanly. Check log for details"
     ]
    }
   ],
   "source": [
    "wf.run() #plugin=\"MultiProc\", plugin_args={\"n_procs\": 8}"
   ]
  }
 ],
 "metadata": {
  "kernelspec": {
   "display_name": "Python 3",
   "language": "python",
   "name": "python3"
  },
  "language_info": {
   "codemirror_mode": {
    "name": "ipython",
    "version": 3
   },
   "file_extension": ".py",
   "mimetype": "text/x-python",
   "name": "python",
   "nbconvert_exporter": "python",
   "pygments_lexer": "ipython3",
   "version": "3.8.6"
  },
  "toc-autonumbering": true,
  "toc-showmarkdowntxt": false
 },
 "nbformat": 4,
 "nbformat_minor": 5
}
