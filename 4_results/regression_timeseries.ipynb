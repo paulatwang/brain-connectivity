{
 "cells": [
  {
   "cell_type": "code",
   "execution_count": 1,
   "metadata": {},
   "outputs": [],
   "source": [
    "import numpy as np\n",
    "import pandas as pd\n",
    "from nltools.data import Brain_Data\n",
    "import matplotlib.pyplot as plt\n",
    "\n",
    "import nilearn\n",
    "from nilearn import surface\n",
    "from nilearn import plotting\n",
    "\n",
    "fsaverage = nilearn.datasets.fetch_surf_fsaverage()\n",
    "plotting.show() "
   ]
  },
  {
   "cell_type": "code",
   "execution_count": 2,
   "metadata": {},
   "outputs": [],
   "source": [
    "\n",
    "def get_params(param_num, roi):\n",
    "    from nilearn import plotting\n",
    "    from nilearn.glm import threshold_stats_img\n",
    "    \n",
    "    tmap = f'/home/pw/projects/thesis/out/level3/_contr_id_{param_num}_roi_id_{roi}/level3estimate/stats/tstat1.nii.gz'\n",
    "    zmap = f'/home/pw/projects/thesis/out/level3/_contr_id_{param_num}_roi_id_{roi}/level3estimate/stats/zstat1.nii.gz'\n",
    "    thresholded_zmap, threshold = threshold_stats_img(zmap, alpha=.001, height_control='fpr')\n",
    "    return img_results(tmap), img_results(thresholded_zmap)       \n",
    "    "
   ]
  },
  {
   "cell_type": "code",
   "execution_count": null,
   "metadata": {},
   "outputs": [],
   "source": [
    "get_params"
   ]
  }
 ],
 "metadata": {
  "kernelspec": {
   "display_name": "Python 3",
   "language": "python",
   "name": "python3"
  },
  "language_info": {
   "codemirror_mode": {
    "name": "ipython",
    "version": 3
   },
   "file_extension": ".py",
   "mimetype": "text/x-python",
   "name": "python",
   "nbconvert_exporter": "python",
   "pygments_lexer": "ipython3",
   "version": "3.8.6"
  }
 },
 "nbformat": 4,
 "nbformat_minor": 4
}
